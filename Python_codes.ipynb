{
 "cells": [
  {
   "cell_type": "markdown",
   "metadata": {},
   "source": [
    "# Assignment"
   ]
  },
  {
   "cell_type": "markdown",
   "metadata": {},
   "source": [
    "1.Develop a code for below scenario\n",
    "<img src=\"Picture1.png\"/>\n"
   ]
  },
  {
   "cell_type": "code",
   "execution_count": 2,
   "metadata": {},
   "outputs": [
    {
     "name": "stdout",
     "output_type": "stream",
     "text": [
      "Enter the year2000\n",
      "dragon\n"
     ]
    }
   ],
   "source": [
    "year=int(input(\"Enter the year\"))\n",
    "n=year%12\n",
    "if n==0:\n",
    "    print(\"monkey\")\n",
    "elif n==1:\n",
    "    print(\"rooster\")\n",
    "elif n==2:\n",
    "    print(\"Dog\")\n",
    "elif n==3:\n",
    "    print(\"pig\")\n",
    "elif n==4:\n",
    "    print(\"rat\")\n",
    "elif n==5:\n",
    "    print(\"ox\")\n",
    "elif n==6:\n",
    "    print(\"tiger\")\n",
    "elif n==7:\n",
    "    print(\"rabbit\")\n",
    "elif n==8:\n",
    "    print(\"dragon\")\n",
    "elif n==9:\n",
    "    print(\"snake\")\n",
    "elif n==10:\n",
    "    print(\"horse\")\n",
    "elif n==11:\n",
    "    print(\"sheep\")"
   ]
  },
  {
   "cell_type": "markdown",
   "metadata": {},
   "source": [
    "2 .QuicA k Fox Transport Co. wants to develop an application for calculating amount based on distance and weight of goods. The charges (Amount) to be calculated as per rates given below. \n",
    "<img src=\"Picture2.png\"/>"
   ]
  },
  {
   "cell_type": "code",
   "execution_count": 5,
   "metadata": {
    "scrolled": true
   },
   "outputs": [
    {
     "name": "stdout",
     "output_type": "stream",
     "text": [
      "enter distance:520\n",
      "Enter weight:50\n",
      "amt 3120.0\n"
     ]
    }
   ],
   "source": [
    "x=float(input(\"enter distance:\"))\n",
    "y=float(input(\"Enter weight:\"))\n",
    "if x>=500:\n",
    "  if y>=100:\n",
    "    x=x*5\n",
    "  elif y>=10 and y<100:\n",
    "    x=x*6\n",
    "  elif y<10:\n",
    "    x=x*7\n",
    "elif x<500:\n",
    "  if y>=100:\n",
    "    x=x*8\n",
    "  elif y<100:\n",
    "    x=x*5\n",
    "print(\"amt\",x)"
   ]
  },
  {
   "cell_type": "markdown",
   "metadata": {},
   "source": [
    "3.The Entertainment Paradise\n",
    "\n",
    " A theater in Delhi wants to develop a computerized Booking System. The theater offers different types of seats. The Ticket rates are- Stalls- Rs. 625/-, Circle- Rs.750/-, Upper Class- Rs.850/- and Box- Rs.1000/-. A discount is given 10% of total amount if tickets are purchased on Cash. In case of credit card holders 5% discount is given. \n",
    "Input: \tType of Seat: Circle    \n",
    "Payment mode: cash\n",
    "Output: Cost of ticket: 675"
   ]
  },
  {
   "cell_type": "code",
   "execution_count": 6,
   "metadata": {},
   "outputs": [
    {
     "name": "stdout",
     "output_type": "stream",
     "text": [
      "Enter Type:Circle\n",
      "Enter payment mode:cash\n",
      "750 10\n",
      "675.0\n"
     ]
    }
   ],
   "source": [
    "x=input(\"Enter Type:\")\n",
    "y=input(\"Enter payment mode:\")\n",
    "z=0\n",
    "a=0\n",
    "if x == \"Stalls\":\n",
    "  z=625\n",
    "elif x == \"Circle\":\n",
    "  z=750\n",
    "elif x == \"Upper class\":\n",
    "  z=850\n",
    "elif x == \"Box\":\n",
    "  z=1000\n",
    "\n",
    "if y == \"cash\":\n",
    "  a=10\n",
    "elif y == \"credit card\":\n",
    "  a=5\n",
    "else:\n",
    "  a=0\n",
    "\n",
    "print(z,a)\n",
    "d=z-(z*(a/100))\n",
    "print(d)"
   ]
  },
  {
   "cell_type": "markdown",
   "metadata": {},
   "source": [
    "4.Develop a program that calculates the energy needed to heat water from an initial temperature to a final temperature. Your program should prompt the user to enter the amount of water in kilograms and the initial and final temperatures of the water. The formula to compute the energy is \n",
    "Q = M * (finalTemperature – initialTemperature) * 4184.\n",
    "where M is the weight of water in kilograms, temperatures are in degrees Celsius,  and energy Q is measured in joules. (L6)"
   ]
  },
  {
   "cell_type": "code",
   "execution_count": 7,
   "metadata": {},
   "outputs": [
    {
     "name": "stdout",
     "output_type": "stream",
     "text": [
      "Enter the weight of water500\n",
      "Enter the intial temperature25\n",
      "Enter the final temperature45\n",
      "The amount of energy is 41840000\n"
     ]
    }
   ],
   "source": [
    "m=int(input(\"Enter the weight of water\"))\n",
    "intial=int(input(\"Enter the intial temperature\"))\n",
    "final=int(input(\"Enter the final temperature\"))\n",
    "Q = m*(final - intial)*4184\n",
    "print(\"The amount of energy is\",+Q)"
   ]
  },
  {
   "cell_type": "markdown",
   "metadata": {},
   "source": [
    "5.Develop a program that prompts user to enter month and  print <br>\n",
    "    a.“Winter ” -   December ,January and February<br>\n",
    "    b.“Spring”  -   March ,April and May<br>\n",
    "    c.“Summer”  --- June ,July, August<br>\n",
    "    d.“Autumn ”  -- September ,October, November<br>"
   ]
  },
  {
   "cell_type": "code",
   "execution_count": 12,
   "metadata": {},
   "outputs": [
    {
     "name": "stdout",
     "output_type": "stream",
     "text": [
      "enter month : May\n",
      "Spring\n"
     ]
    }
   ],
   "source": [
    "month=input(\"enter month : \")\n",
    "if month==\"December\" or month==\"January\" or month==\"February\":\n",
    "  print(\"Winter\")\n",
    "elif month==\"March\" or month==\"April\" or month==\"May\":\n",
    "  print(\"Spring\")\n",
    "elif month==\"June\" or month==\"July\" or month==\"August\":\n",
    "  print(\"Summer\")\n",
    "elif month==\"September\" or month==\"October\" or month==\"November\":\n",
    "  print(\"Autumn\")"
   ]
  },
  {
   "cell_type": "markdown",
   "metadata": {},
   "source": [
    "6 .<img src=\"Picture3.png\" width=500 height=300/>"
   ]
  },
  {
   "cell_type": "code",
   "execution_count": 14,
   "metadata": {},
   "outputs": [
    {
     "name": "stdout",
     "output_type": "stream",
     "text": [
      "enter the weight in pounds160\n",
      "enter the height in inches70\n",
      "Normal\n",
      "22.957374029033772\n"
     ]
    }
   ],
   "source": [
    "#6\n",
    "w=float(input(\"enter the weight in pounds\"))\n",
    "h=int(input(\"enter the height in inches\"))\n",
    "weight=w*0.45359237\n",
    "height=h*0.0254\n",
    "bmi=weight/(height**2)\n",
    "if bmi<18.5:\n",
    "    print(\"Uderweight\")\n",
    "elif bmi>=18.5 and bmi<25:\n",
    "    print(\"Normal\")\n",
    "elif bmi>=25 and bmi<30:\n",
    "    print(\"Overweight\")\n",
    "elif bmi>=30:\n",
    "    print(\"Obese\")\n",
    "print(bmi)"
   ]
  },
  {
   "cell_type": "markdown",
   "metadata": {},
   "source": [
    "7.Write a program that reads an integer between 100 and 1000 and adds all the digits in the integer \t(\tex: input 745 \t# output =16\t(7+4+5)\t)"
   ]
  },
  {
   "cell_type": "code",
   "execution_count": 17,
   "metadata": {},
   "outputs": [
    {
     "name": "stdout",
     "output_type": "stream",
     "text": [
      "Enter the number745\n",
      "sum of digits :  16\n"
     ]
    }
   ],
   "source": [
    "n=int(input(\"Enter the number\"))\n",
    "s=0\n",
    "while n!=0:\n",
    "    r=n%10\n",
    "    s+=int(r)\n",
    "    n=n/10\n",
    "print(\"sum of digits : \",+s)"
   ]
  },
  {
   "cell_type": "markdown",
   "metadata": {},
   "source": [
    "8.Print all palindrome numbers between 1 to 1000."
   ]
  },
  {
   "cell_type": "code",
   "execution_count": 18,
   "metadata": {},
   "outputs": [
    {
     "name": "stdout",
     "output_type": "stream",
     "text": [
      "2\n",
      "3\n",
      "4\n",
      "5\n",
      "6\n",
      "7\n",
      "8\n",
      "9\n",
      "11\n",
      "22\n",
      "33\n",
      "44\n",
      "55\n",
      "66\n",
      "77\n",
      "88\n",
      "99\n",
      "101\n",
      "111\n",
      "121\n",
      "131\n",
      "141\n",
      "151\n",
      "161\n",
      "171\n",
      "181\n",
      "191\n",
      "202\n",
      "212\n",
      "222\n",
      "232\n",
      "242\n",
      "252\n",
      "262\n",
      "272\n",
      "282\n",
      "292\n",
      "303\n",
      "313\n",
      "323\n",
      "333\n",
      "343\n",
      "353\n",
      "363\n",
      "373\n",
      "383\n",
      "393\n",
      "404\n",
      "414\n",
      "424\n",
      "434\n",
      "444\n",
      "454\n",
      "464\n",
      "474\n",
      "484\n",
      "494\n",
      "505\n",
      "515\n",
      "525\n",
      "535\n",
      "545\n",
      "555\n",
      "565\n",
      "575\n",
      "585\n",
      "595\n",
      "606\n",
      "616\n",
      "626\n",
      "636\n",
      "646\n",
      "656\n",
      "666\n",
      "676\n",
      "686\n",
      "696\n",
      "707\n",
      "717\n",
      "727\n",
      "737\n",
      "747\n",
      "757\n",
      "767\n",
      "777\n",
      "787\n",
      "797\n",
      "808\n",
      "818\n",
      "828\n",
      "838\n",
      "848\n",
      "858\n",
      "868\n",
      "878\n",
      "888\n",
      "898\n",
      "909\n",
      "919\n",
      "929\n",
      "939\n",
      "949\n",
      "959\n",
      "969\n",
      "979\n",
      "989\n",
      "999\n"
     ]
    }
   ],
   "source": [
    "for i in range(2,1000):\n",
    "    n=i\n",
    "    s=0\n",
    "    while n!=0:\n",
    "        r=n%10\n",
    "        s=s*10+r\n",
    "        n=n//10\n",
    "    if s==i:\n",
    "        print(i)"
   ]
  },
  {
   "cell_type": "markdown",
   "metadata": {},
   "source": [
    "9.Print all Armstrong numbers between 1 to 1000. "
   ]
  },
  {
   "cell_type": "code",
   "execution_count": 19,
   "metadata": {},
   "outputs": [
    {
     "name": "stdout",
     "output_type": "stream",
     "text": [
      "153\n",
      "370\n",
      "371\n",
      "407\n"
     ]
    }
   ],
   "source": [
    "for i in range(2,1000):\n",
    "    n=i\n",
    "    s=0\n",
    "    while n!=0:\n",
    "        r=n%10\n",
    "        s=s+(r*r*r)\n",
    "        n=n//10\n",
    "    if s==i:\n",
    "        print(i)"
   ]
  },
  {
   "cell_type": "markdown",
   "metadata": {},
   "source": [
    "10.Write a program which iterates the integers from 1 to 100. For multiples of three print \"Fizz\" instead of the number and print \"Buzz\" for the multiples of five. When number is divided by both three and five, print \"fizz buzz\"."
   ]
  },
  {
   "cell_type": "code",
   "execution_count": 20,
   "metadata": {},
   "outputs": [
    {
     "name": "stdout",
     "output_type": "stream",
     "text": [
      "1\n",
      "2\n",
      "fizz\n",
      "4\n",
      "buzz\n",
      "fizz\n",
      "7\n",
      "8\n",
      "fizz\n",
      "buzz\n",
      "11\n",
      "fizz\n",
      "13\n",
      "14\n",
      "fizz\n",
      "fizz buzz\n",
      "16\n",
      "17\n",
      "fizz\n",
      "19\n",
      "buzz\n",
      "fizz\n",
      "22\n",
      "23\n",
      "fizz\n",
      "buzz\n",
      "26\n",
      "fizz\n",
      "28\n",
      "29\n",
      "fizz\n",
      "fizz buzz\n",
      "31\n",
      "32\n",
      "fizz\n",
      "34\n",
      "buzz\n",
      "fizz\n",
      "37\n",
      "38\n",
      "fizz\n",
      "buzz\n",
      "41\n",
      "fizz\n",
      "43\n",
      "44\n",
      "fizz\n",
      "fizz buzz\n",
      "46\n",
      "47\n",
      "fizz\n",
      "49\n",
      "buzz\n",
      "fizz\n",
      "52\n",
      "53\n",
      "fizz\n",
      "buzz\n",
      "56\n",
      "fizz\n",
      "58\n",
      "59\n",
      "fizz\n",
      "fizz buzz\n",
      "61\n",
      "62\n",
      "fizz\n",
      "64\n",
      "buzz\n",
      "fizz\n",
      "67\n",
      "68\n",
      "fizz\n",
      "buzz\n",
      "71\n",
      "fizz\n",
      "73\n",
      "74\n",
      "fizz\n",
      "fizz buzz\n",
      "76\n",
      "77\n",
      "fizz\n",
      "79\n",
      "buzz\n",
      "fizz\n",
      "82\n",
      "83\n",
      "fizz\n",
      "buzz\n",
      "86\n",
      "fizz\n",
      "88\n",
      "89\n",
      "fizz\n",
      "fizz buzz\n",
      "91\n",
      "92\n",
      "fizz\n",
      "94\n",
      "buzz\n",
      "fizz\n",
      "97\n",
      "98\n",
      "fizz\n"
     ]
    }
   ],
   "source": [
    "for i in range(1,100):\n",
    "    if i%3==0:\n",
    "        print(\"fizz\")\n",
    "        if i%5==0:\n",
    "            print(\"fizz buzz\")\n",
    "    elif i%5==0:\n",
    "        print(\"buzz\")\n",
    "    else:\n",
    "        print(i)"
   ]
  },
  {
   "cell_type": "markdown",
   "metadata": {},
   "source": [
    "11.Spider Problem: A spider present at the bottom of the well of height H, needs to get out of it, using the slippery wall of the well. It decides to climb up the well; it goes up U meters and slips down D meters in one single step. So, in each step it covers (U-D) meters, and if the spider gets out of the well by covering U meters in the last step it doesn’t a slip back. For example, if the spider climbs up 5 meters and slips down by 3 meters in a single step, it covers (U - D) m in each step and 96 m in 48 steps, but in the 49th step it climbs up 5 m and reaches out of the well and it will not slip down and the step is counted as one step. <br>\n",
    "Input: Each test case will contain 3 integers ’H’ height of the well, next ’U’ meters climbs up in each step, and the last ’D’ meters slips down in each step.<br>\n",
    "Output:  The number of steps 'N' required to get out of the well.\n",
    "Example 1:<br>\n",
    " \tInput:\t\t\n",
    "\t200 50 1\t\n",
    "    Ouput <br>\n",
    "    5<br><br>\n",
    "\tExample 2:<br>\n",
    " \tInput:\t\t\t\t\n",
    "    500 20 15<br>\n",
    "    Output<br>\n",
    "    98\n",
    "\n",
    "\t"
   ]
  },
  {
   "cell_type": "code",
   "execution_count": 23,
   "metadata": {},
   "outputs": [
    {
     "name": "stdout",
     "output_type": "stream",
     "text": [
      "Enter the height of well200\n",
      "Enter the distance it goes50\n",
      "Enter the distance it slips1\n",
      "5\n"
     ]
    }
   ],
   "source": [
    "h=int(input(\"Enter the height of well\"))\n",
    "u=int(input(\"Enter the distance it goes\"))\n",
    "d=int(input(\"Enter the distance it slips\"))\n",
    "r=0\n",
    "c=0\n",
    "while(True):\n",
    "    r=r+u\n",
    "    c+=1\n",
    "    if r>h:\n",
    "        break\n",
    "    r-=d\n",
    "print(c)"
   ]
  },
  {
   "cell_type": "code",
   "execution_count": null,
   "metadata": {},
   "outputs": [],
   "source": []
  },
  {
   "cell_type": "markdown",
   "metadata": {},
   "source": [
    "<center>THE END</center>"
   ]
  },
  {
   "cell_type": "code",
   "execution_count": null,
   "metadata": {},
   "outputs": [],
   "source": []
  }
 ],
 "metadata": {
  "kernelspec": {
   "display_name": "Python 3",
   "language": "python",
   "name": "python3"
  },
  "language_info": {
   "codemirror_mode": {
    "name": "ipython",
    "version": 3
   },
   "file_extension": ".py",
   "mimetype": "text/x-python",
   "name": "python",
   "nbconvert_exporter": "python",
   "pygments_lexer": "ipython3",
   "version": "3.8.2"
  }
 },
 "nbformat": 4,
 "nbformat_minor": 4
}
