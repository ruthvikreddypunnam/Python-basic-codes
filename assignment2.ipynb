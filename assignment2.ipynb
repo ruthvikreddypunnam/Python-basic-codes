{
 "cells": [
  {
   "cell_type": "markdown",
   "metadata": {},
   "source": [
    "1.  Area of Triangle :<br>\n",
    "Given  the  lengths  of  three  sides  of  a  triangle,  calculate  the  area  of the triangle. "
   ]
  },
  {
   "cell_type": "code",
   "execution_count": 22,
   "metadata": {},
   "outputs": [
    {
     "name": "stdout",
     "output_type": "stream",
     "text": [
      "Enter three sides : 4 5 6\n",
      "7.5\n",
      "Area of triangle is :  9.921567416492215\n"
     ]
    }
   ],
   "source": [
    "import math\n",
    "a,b,c=input(\"Enter three sides : \").split()\n",
    "a=int(a)\n",
    "b=int(b)\n",
    "c=int(c)\n",
    "s=(a+b+c)/2\n",
    "print(s)\n",
    "area=math.sqrt(s*(s-a)*(s-b)*(s-c))\n",
    "print(\"Area of triangle is : \",area)"
   ]
  },
  {
   "cell_type": "markdown",
   "metadata": {},
   "source": [
    "2.  Take a string from end user and check if the value is palindrome or not\n"
   ]
  },
  {
   "cell_type": "code",
   "execution_count": 26,
   "metadata": {},
   "outputs": [
    {
     "name": "stdout",
     "output_type": "stream",
     "text": [
      "Enter the string : Madam\n",
      "The string is palindrome\n"
     ]
    }
   ],
   "source": [
    "s=input(\"Enter the string : \")\n",
    "s=s.lower()\n",
    "if s==s[::-1]:\n",
    "    print(\"The string is palindrome\")\n",
    "else:\n",
    "    print(\"The string is not palindrome\")"
   ]
  },
  {
   "cell_type": "markdown",
   "metadata": {},
   "source": [
    "3.  Write a program that reads a year from the user and displays a message Indicating whether or not it is a leap year."
   ]
  },
  {
   "cell_type": "code",
   "execution_count": 31,
   "metadata": {},
   "outputs": [
    {
     "name": "stdout",
     "output_type": "stream",
     "text": [
      "Enter the year2020\n",
      "2020 is leap year\n"
     ]
    }
   ],
   "source": [
    "year=int(input(\"Enter the year\"))\n",
    "if year%4==0:\n",
    "    print(\"{} is leap year\".format(year))\n",
    "else:\n",
    "    print(\"{} is not leap year\".format(year))"
   ]
  },
  {
   "cell_type": "markdown",
   "metadata": {},
   "source": [
    "4.Space To Hyphen problem Take a string as input, and replaces spaces “ “  with hyphens “-”, and returns a string.<br>\n",
    "Input: “ This program converts spaces into hyphen” <br>     \n",
    "Output:“ This-program-converts-spaces-into-hyphen”"
   ]
  },
  {
   "cell_type": "code",
   "execution_count": 37,
   "metadata": {},
   "outputs": [
    {
     "name": "stdout",
     "output_type": "stream",
     "text": [
      "Enter the string with spaces : how are you\n",
      "how-are-you\n"
     ]
    }
   ],
   "source": [
    "str=input(\"Enter the string with spaces : \")\n",
    "l=list(str.split())\n",
    "s=\"-\".join(l)\n",
    "print(s)"
   ]
  },
  {
   "cell_type": "markdown",
   "metadata": {},
   "source": [
    "5.  Unique Sort problem Take  a  string  as  input  that  accepts  a  comma  separated  sequence  of  words as input and prints the unique words in sorted form (alphanumerically).<br>*Input*: orange, white, red, cyan, green, magenta, cyan, pink, white<br>*Output*: cyan, green, magenta, orange, pink, red, white"
   ]
  },
  {
   "cell_type": "code",
   "execution_count": 56,
   "metadata": {},
   "outputs": [
    {
     "name": "stdout",
     "output_type": "stream",
     "text": [
      "Enter words separated by commas : orange,white,red,cyan,green,magenta,cyan,pink,white\n",
      "cyan,green,magenta,orange,pink,red,white\n"
     ]
    }
   ],
   "source": [
    "words=input(\"Enter words separated by commas : \")\n",
    "t=set(words.split(\",\"))\n",
    "l=list(t)\n",
    "l1=sorted(l)\n",
    "w=','.join(l1)\n",
    "print(w)"
   ]
  },
  {
   "cell_type": "markdown",
   "metadata": {},
   "source": [
    "6.  Tax CalculatorAsk  the  user  for  their  monthly  salary.  Calculate  whether  they  have  to  pay tax and if so, how much is that amount .Print the result\n",
    "<img src=\"Picture21.png\"/>"
   ]
  },
  {
   "cell_type": "code",
   "execution_count": 74,
   "metadata": {},
   "outputs": [
    {
     "name": "stdout",
     "output_type": "stream",
     "text": [
      "Enter your income1000000\n",
      "You need to pay 15% of your income as tax that is ₹ 150000.0\n"
     ]
    }
   ],
   "source": [
    "i=int(input(\"Enter your income\"))\n",
    "if i<=250000:\n",
    "    print(\"You dont need to pay tax on your income\")\n",
    "elif i<=500000:\n",
    "    t=(5/100.0)*i\n",
    "    print(\"You need to pay 5% of your income as tax that is ₹\",t)\n",
    "elif i<=750000:\n",
    "    t=(10/100.0)*i\n",
    "    print(\"You need to pay 10% of your income as tax that is ₹\",t)\n",
    "elif i<=1000000:\n",
    "    t=(15/100.0)*i\n",
    "    print(\"You need to pay 15% of your income as tax that is ₹\",t)\n",
    "elif i<=1250000:\n",
    "    t=(20/100.0)*i\n",
    "    print(\"You need to pay 20% of your income as tax that is ₹\",t)\n",
    "elif i<=1500000:\n",
    "    t=(25/100.0)*i\n",
    "    print(\"You need to pay 25% of your income as tax that is ₹\",t)\n",
    "else:\n",
    "    t=(30/100.0)*i\n",
    "    print(\"You need to pay 30% of your income as tax that is ₹\",t)"
   ]
  },
  {
   "cell_type": "markdown",
   "metadata": {},
   "source": [
    "7.Take a list of integers as an argument, and converts it into a single integer (return the integer).<br>\n",
    "*Input*: [11, 33, 50]<br>\n",
    "*Output*: 113350"
   ]
  },
  {
   "cell_type": "code",
   "execution_count": 76,
   "metadata": {},
   "outputs": [
    {
     "name": "stdout",
     "output_type": "stream",
     "text": [
      "Enter the list of integers separated by commas11,33,50\n",
      "113350\n"
     ]
    }
   ],
   "source": [
    "l=list(input(\"Enter the list of integers separated by commas\").split(\",\"))\n",
    "s=''.join(l)\n",
    "print(s)"
   ]
  },
  {
   "cell_type": "markdown",
   "metadata": {},
   "source": [
    "8.Units of Time<br>\n",
    "Create a program that reads duration from the user as a number of days, hours, minutes, and seconds. Compute and display the total number of seconds represented by this duration. "
   ]
  },
  {
   "cell_type": "code",
   "execution_count": 80,
   "metadata": {},
   "outputs": [
    {
     "name": "stdout",
     "output_type": "stream",
     "text": [
      "Enter number of days,hours,minutes and seconds separated by ':' 1:2:3:4\n",
      "Total number of seconds :  93784\n"
     ]
    }
   ],
   "source": [
    "days,hours,minutes,seconds=input(\"Enter number of days,hours,minutes and seconds separated by ':' \").split(\":\")\n",
    "days,hours,minutes,seconds=int(days),int(hours),int(minutes),int(seconds)\n",
    "hours=hours+(days*24)\n",
    "minutes=minutes+(hours*60)\n",
    "seconds=seconds+(minutes*60)\n",
    "print(\"Total number of seconds : \",seconds)"
   ]
  },
  {
   "cell_type": "markdown",
   "metadata": {},
   "source": [
    "9.Sort 3 Integers<br>\n",
    "Given three integers (given through user input), sort the numbers using |min| and  |max| functions."
   ]
  },
  {
   "cell_type": "code",
   "execution_count": 4,
   "metadata": {},
   "outputs": [
    {
     "name": "stdout",
     "output_type": "stream",
     "text": [
      "Enter 3 integers3 2 1\n",
      "1 2 3\n"
     ]
    }
   ],
   "source": [
    "a,b,c=input(\"Enter 3 integers\").split()\n",
    "a,b,c=int(a),int(b),int(c)\n",
    "if max(a,b,c)!=a and min(a,b,c)!=a:\n",
    "    mid=a\n",
    "elif max(a,b,c)!=b and min(a,b,c)!=b:\n",
    "    mid=b\n",
    "else:\n",
    "    mid=c\n",
    "print(min(a,b,c),mid,max(a,b,c))"
   ]
  },
  {
   "cell_type": "markdown",
   "metadata": {},
   "source": [
    "10.Write a program that reads a date from the user and computes its immediate successor. The date is the format YYYY-MM-DD. So, 2020-04-15 will have the successor 2020-04-16."
   ]
  },
  {
   "cell_type": "code",
   "execution_count": 7,
   "metadata": {},
   "outputs": [
    {
     "name": "stdout",
     "output_type": "stream",
     "text": [
      "Enter date in YYYY-MM-DD :2020-04-15\n",
      "2020-04-16\n"
     ]
    }
   ],
   "source": [
    "year,month,day=input(\"Enter date in YYYY-MM-DD :\").split(\"-\")\n",
    "year,month,day=int(year),int(month),int(day)\n",
    "day=day+1\n",
    "if day>30:\n",
    "    if month==4 or month==6 or month==9 or month==11:\n",
    "        month=month+1\n",
    "        day=1;\n",
    "        if month>12:\n",
    "            year=year+1\n",
    "            month=1\n",
    "    if day>31:\n",
    "        if month==1 or month==3 or month==5 or month==7 or month==8 or month==10 or month==12:\n",
    "            month=month+1\n",
    "            day=1\n",
    "            if month>12:\n",
    "                year=year+1\n",
    "                month=1\n",
    "elif day>28 and month==2:\n",
    "    if year%4!=0:\n",
    "        month=month+1;\n",
    "        day=1\n",
    "print(str(year)+\"-\"+str(month).zfill(2)+\"-\"+str(day).zfill(2))"
   ]
  },
  {
   "cell_type": "markdown",
   "metadata": {},
   "source": [
    "11.Compute product of a list of numbers [45 ,3,2,89,72,1,10,7]<br>\n",
    "Output: 121111200"
   ]
  },
  {
   "cell_type": "code",
   "execution_count": 89,
   "metadata": {},
   "outputs": [
    {
     "name": "stdout",
     "output_type": "stream",
     "text": [
      "Enter the list of numbers45,3,2,89,72,1,10,7\n",
      "121111200\n"
     ]
    }
   ],
   "source": [
    "l=list(input(\"Enter the list of numbers\").split(\",\"))\n",
    "p=1\n",
    "for i in l:\n",
    "    p=p*int(i)\n",
    "print(p)"
   ]
  },
  {
   "cell_type": "markdown",
   "metadata": {},
   "source": [
    "12.Compute given Num_list =  [5, 6,8 ,34,89,1] to get desired output<br>\n",
    "Output: Out_list=[11,14,42,123,90]"
   ]
  },
  {
   "cell_type": "code",
   "execution_count": 101,
   "metadata": {},
   "outputs": [
    {
     "name": "stdout",
     "output_type": "stream",
     "text": [
      "Enter list separated by commas5,6,8,34,89,1\n",
      "[11, 14, 42, 123, 90]\n"
     ]
    }
   ],
   "source": [
    "l=list(input(\"Enter list separated by commas\").split(\",\"))\n",
    "l1=[int(l[i])+int(l[i+1]) for i in range(len(l)-1)]\n",
    "print(l1)"
   ]
  },
  {
   "cell_type": "markdown",
   "metadata": {},
   "source": [
    "13. Compute given Num_tuple =  (5, 6,8 ,3,9,1) to get desired output<br>\n",
    "Output: Out_list = [5, 30, 240, 720, 6480, 6480]"
   ]
  },
  {
   "cell_type": "code",
   "execution_count": 107,
   "metadata": {},
   "outputs": [
    {
     "name": "stdout",
     "output_type": "stream",
     "text": [
      "Enter list separated by commas5,6,8,3,9,1\n",
      "[5, 30, 240, 720, 6480, 6480]\n"
     ]
    }
   ],
   "source": [
    "l=list(input(\"Enter list separated by commas\").split(\",\"))\n",
    "p=1\n",
    "l1=[]\n",
    "for i in l:\n",
    "    p=p*int(i)\n",
    "    l1.append(p)\n",
    "print(l1)"
   ]
  },
  {
   "cell_type": "markdown",
   "metadata": {},
   "source": [
    "14. Write a Python code that takes a number and returns a list of its digits. So for 586392 it should return [5,8,6,3,9,2]"
   ]
  },
  {
   "cell_type": "code",
   "execution_count": 114,
   "metadata": {},
   "outputs": [
    {
     "name": "stdout",
     "output_type": "stream",
     "text": [
      "Enter the number586392\n",
      "[5, 8, 6, 3, 9, 2]\n"
     ]
    }
   ],
   "source": [
    "l=list(input(\"Enter the number\"))\n",
    "l1=[int(i) for i in l]\n",
    "print(l1)"
   ]
  },
  {
   "cell_type": "markdown",
   "metadata": {},
   "source": [
    "15.Write a program that finds the longest palindromic substring of a given string"
   ]
  },
  {
   "cell_type": "code",
   "execution_count": 4,
   "metadata": {},
   "outputs": [
    {
     "name": "stdout",
     "output_type": "stream",
     "text": [
      "Enter a string : fhjsdhhjhjhj\n",
      "hjhjh\n"
     ]
    }
   ],
   "source": [
    "str=input(\"Enter a string : \")\n",
    "maxi=0\n",
    "if str[::1]==str[::-1]:\n",
    "    print(str)\n",
    "else:\n",
    "    for i in range(len(str)):\n",
    "        for j in range(i,len(str)):\n",
    "            if str[i:j+1:1]==str[j:i-1:-1]:\n",
    "                if maxi<len(str[i:j+1:1]):\n",
    "                    m=str[i:j+1:1]\n",
    "                    maxi=len(str[i:j+1:1])\n",
    "    print(m)"
   ]
  },
  {
   "cell_type": "markdown",
   "metadata": {},
   "source": [
    "16. Substring Check (Bug Funny)\n",
    "Given two binary strings, A (of length 10) and B (of length 5), output 1 if B is a substring of A and 0 otherwise.\n",
    "First two lines of input:<br>\n",
    "\n",
    "1010110010          10110<br>\n",
    "1110111011           10011<br>\n",
    "First two lines of output:\n",
    "1\n",
    "0"
   ]
  },
  {
   "cell_type": "code",
   "execution_count": 3,
   "metadata": {},
   "outputs": [
    {
     "name": "stdout",
     "output_type": "stream",
     "text": [
      "Enter first string and a string1010110010 10110\n",
      "Enter second string and a string1110111011 10011\n",
      "1 0 "
     ]
    }
   ],
   "source": [
    "a,s1=input(\"Enter first string and a string\").split()\n",
    "b,s2=input(\"Enter second string and a string\").split()\n",
    "if s1 in a:\n",
    "    print(\"1\",end=\" \")\n",
    "else:\n",
    "    print(\"0\",end=\" \")\n",
    "if s2 in b:\n",
    "    print(\"1\",end=\" \")\n",
    "else:\n",
    "    print(\"0\",end=\" \")"
   ]
  },
  {
   "cell_type": "markdown",
   "metadata": {},
   "source": [
    "17.  POUR1 - Pouring water<br>\n",
    "Given two vessels, one of which can accommodate a litres of water and the other - b litres of water, determine the number of steps required to obtain exactly c litres of water in one of the vessels.\n",
    "At the beginning both vessels are empty. The following operations are counted as 'steps':<br>\n",
    "emptying a vessel,<br>\n",
    "filling a vessel,<br>\n",
    "pouring water from one vessel to the other, without spilling, until one of the vessels is either full or empty.\n",
    "Input<br>\n",
    "An integer t, 1<=t<=100, denoting the number of testcases , followed by t sets of input data, each consisting of three positive integers a, b, c, not larger than 40000, given in separate lines.\n",
    "Output<br>\n",
    "For each set of input data, output the minimum number of steps required to obtain c litres, or -1 if this is impossible."
   ]
  },
  {
   "cell_type": "code",
   "execution_count": 2,
   "metadata": {},
   "outputs": [
    {
     "name": "stderr",
     "output_type": "stream",
     "text": [
      "<>:36: SyntaxWarning: \"is not\" with a literal. Did you mean \"!=\"?\n",
      "<>:36: SyntaxWarning: \"is not\" with a literal. Did you mean \"!=\"?\n",
      "<ipython-input-2-2c9a8523fa41>:36: SyntaxWarning: \"is not\" with a literal. Did you mean \"!=\"?\n",
      "  if (c%(gcd(a,b)) is not 0):\n"
     ]
    },
    {
     "name": "stdout",
     "output_type": "stream",
     "text": [
      "enter number of testcases:2\n",
      "\n",
      "enter liters for a5\n",
      "enter liters for b2\n",
      "enter liters for c3\n",
      "Minimum number of steps required is 2\n",
      "\n",
      "enter liters for a6\n",
      "enter liters for b3\n",
      "enter liters for c2\n",
      "Minimum number of steps required is -1\n"
     ]
    }
   ],
   "source": [
    "def gcd(a, b): \n",
    "    if b==0: \n",
    "        return a \n",
    "    return gcd(b, a%b) \n",
    "\n",
    "def Pour(toJugCap, fromJugCap, c): \n",
    "    fromJug = fromJugCap \n",
    "    toJug  = 0\n",
    "    count = 1\n",
    "    while ((fromJug  is not c) and (toJug is not c)): \n",
    "        temp = min(fromJug, toJugCap-toJug) \n",
    "        toJug = toJug + temp \n",
    "        fromJug = fromJug - temp \n",
    "  \n",
    "        count =  count + 1\n",
    "        if ((fromJug == c) or (toJug == c)): \n",
    "            break\n",
    "  \n",
    "        if fromJug == 0: \n",
    "            fromJug = fromJugCap \n",
    "            count =  count + 1\n",
    "  \n",
    "        if toJug == toJugCap: \n",
    "            toJug = 0\n",
    "            count =  count + 1\n",
    "              \n",
    "    return count\n",
    "  \n",
    "\n",
    "def minSteps(a, b, c): \n",
    "    if a> b: \n",
    "        temp = a \n",
    "        a = b \n",
    "        b = temp \n",
    "          \n",
    "    if (c%(gcd(a,b)) is not 0): \n",
    "        return -1\n",
    "    return(min(Pour(a,b,c), Pour(b,a,c)))\n",
    "\n",
    "t=int(input('enter number of testcases:'))\n",
    "while (t>0):\n",
    "    a=int(input('\\nenter liters for a'))  \n",
    "    b=int(input('enter liters for b'))  \n",
    "    c=int(input('enter liters for c'))  \n",
    "    print('Minimum number of steps required is', minSteps(a, b, c)) \n",
    "    t-=1\n"
   ]
  },
  {
   "cell_type": "code",
   "execution_count": null,
   "metadata": {},
   "outputs": [],
   "source": [
    "\n"
   ]
  },
  {
   "cell_type": "code",
   "execution_count": null,
   "metadata": {},
   "outputs": [],
   "source": []
  }
 ],
 "metadata": {
  "kernelspec": {
   "display_name": "Python 3",
   "language": "python",
   "name": "python3"
  },
  "language_info": {
   "codemirror_mode": {
    "name": "ipython",
    "version": 3
   },
   "file_extension": ".py",
   "mimetype": "text/x-python",
   "name": "python",
   "nbconvert_exporter": "python",
   "pygments_lexer": "ipython3",
   "version": "3.8.2"
  }
 },
 "nbformat": 4,
 "nbformat_minor": 4
}
